{
 "cells": [
  {
   "cell_type": "markdown",
   "id": "278cf133",
   "metadata": {},
   "source": [
    "# reading data"
   ]
  },
  {
   "cell_type": "code",
   "execution_count": 1,
   "id": "a6e800ad",
   "metadata": {
    "scrolled": true
   },
   "outputs": [],
   "source": [
    "from warnings import filterwarnings\n",
    "filterwarnings(\"ignore\") "
   ]
  },
  {
   "cell_type": "code",
   "execution_count": 2,
   "id": "bc8d4afe",
   "metadata": {},
   "outputs": [],
   "source": [
    "import os\n",
    "os.chdir(\"C:\\\\Data-Science2\\\\Snehal_Mane_Project2\")"
   ]
  },
  {
   "cell_type": "code",
   "execution_count": 3,
   "id": "87e3a883",
   "metadata": {
    "scrolled": true
   },
   "outputs": [
    {
     "data": {
      "text/html": [
       "<div>\n",
       "<style scoped>\n",
       "    .dataframe tbody tr th:only-of-type {\n",
       "        vertical-align: middle;\n",
       "    }\n",
       "\n",
       "    .dataframe tbody tr th {\n",
       "        vertical-align: top;\n",
       "    }\n",
       "\n",
       "    .dataframe thead th {\n",
       "        text-align: right;\n",
       "    }\n",
       "</style>\n",
       "<table border=\"1\" class=\"dataframe\">\n",
       "  <thead>\n",
       "    <tr style=\"text-align: right;\">\n",
       "      <th></th>\n",
       "      <th>Loan_ID</th>\n",
       "      <th>Gender</th>\n",
       "      <th>Married</th>\n",
       "      <th>Dependents</th>\n",
       "      <th>Education</th>\n",
       "      <th>Self_Employed</th>\n",
       "      <th>ApplicantIncome</th>\n",
       "      <th>CoapplicantIncome</th>\n",
       "      <th>LoanAmount</th>\n",
       "      <th>Loan_Amount_Term</th>\n",
       "      <th>Credit_History</th>\n",
       "      <th>Property_Area</th>\n",
       "      <th>Loan_Status</th>\n",
       "    </tr>\n",
       "  </thead>\n",
       "  <tbody>\n",
       "    <tr>\n",
       "      <th>0</th>\n",
       "      <td>LP001002</td>\n",
       "      <td>Male</td>\n",
       "      <td>No</td>\n",
       "      <td>0</td>\n",
       "      <td>Graduate</td>\n",
       "      <td>No</td>\n",
       "      <td>5849.0</td>\n",
       "      <td>0.0</td>\n",
       "      <td>NaN</td>\n",
       "      <td>360.0</td>\n",
       "      <td>1.0</td>\n",
       "      <td>Urban</td>\n",
       "      <td>Y</td>\n",
       "    </tr>\n",
       "    <tr>\n",
       "      <th>1</th>\n",
       "      <td>LP001003</td>\n",
       "      <td>Male</td>\n",
       "      <td>Yes</td>\n",
       "      <td>1</td>\n",
       "      <td>Graduate</td>\n",
       "      <td>No</td>\n",
       "      <td>NaN</td>\n",
       "      <td>1508.0</td>\n",
       "      <td>128.0</td>\n",
       "      <td>360.0</td>\n",
       "      <td>1.0</td>\n",
       "      <td>Rural</td>\n",
       "      <td>N</td>\n",
       "    </tr>\n",
       "    <tr>\n",
       "      <th>2</th>\n",
       "      <td>LP001005</td>\n",
       "      <td>Male</td>\n",
       "      <td>Yes</td>\n",
       "      <td>0</td>\n",
       "      <td>Graduate</td>\n",
       "      <td>Yes</td>\n",
       "      <td>3000.0</td>\n",
       "      <td>0.0</td>\n",
       "      <td>66.0</td>\n",
       "      <td>360.0</td>\n",
       "      <td>1.0</td>\n",
       "      <td>Urban</td>\n",
       "      <td>Y</td>\n",
       "    </tr>\n",
       "    <tr>\n",
       "      <th>3</th>\n",
       "      <td>LP001006</td>\n",
       "      <td>Male</td>\n",
       "      <td>Yes</td>\n",
       "      <td>0</td>\n",
       "      <td>Not Graduate</td>\n",
       "      <td>No</td>\n",
       "      <td>2583.0</td>\n",
       "      <td>2358.0</td>\n",
       "      <td>120.0</td>\n",
       "      <td>360.0</td>\n",
       "      <td>1.0</td>\n",
       "      <td>Urban</td>\n",
       "      <td>Y</td>\n",
       "    </tr>\n",
       "    <tr>\n",
       "      <th>4</th>\n",
       "      <td>LP001008</td>\n",
       "      <td>Male</td>\n",
       "      <td>No</td>\n",
       "      <td>0</td>\n",
       "      <td>Graduate</td>\n",
       "      <td>No</td>\n",
       "      <td>6000.0</td>\n",
       "      <td>0.0</td>\n",
       "      <td>141.0</td>\n",
       "      <td>360.0</td>\n",
       "      <td>1.0</td>\n",
       "      <td>Urban</td>\n",
       "      <td>Y</td>\n",
       "    </tr>\n",
       "  </tbody>\n",
       "</table>\n",
       "</div>"
      ],
      "text/plain": [
       "    Loan_ID Gender Married Dependents     Education Self_Employed  \\\n",
       "0  LP001002   Male      No          0      Graduate            No   \n",
       "1  LP001003   Male     Yes          1      Graduate            No   \n",
       "2  LP001005   Male     Yes          0      Graduate           Yes   \n",
       "3  LP001006   Male     Yes          0  Not Graduate            No   \n",
       "4  LP001008   Male      No          0      Graduate            No   \n",
       "\n",
       "   ApplicantIncome  CoapplicantIncome  LoanAmount  Loan_Amount_Term  \\\n",
       "0           5849.0                0.0         NaN             360.0   \n",
       "1              NaN             1508.0       128.0             360.0   \n",
       "2           3000.0                0.0        66.0             360.0   \n",
       "3           2583.0             2358.0       120.0             360.0   \n",
       "4           6000.0                0.0       141.0             360.0   \n",
       "\n",
       "   Credit_History Property_Area Loan_Status  \n",
       "0             1.0         Urban           Y  \n",
       "1             1.0         Rural           N  \n",
       "2             1.0         Urban           Y  \n",
       "3             1.0         Urban           Y  \n",
       "4             1.0         Urban           Y  "
      ]
     },
     "execution_count": 3,
     "metadata": {},
     "output_type": "execute_result"
    }
   ],
   "source": [
    "import pandas as pd\n",
    "A=pd.read_csv(\"C:\\\\Users\\\\SNEHAL\\\\OneDrive\\\\Desktop\\\\CSV files\\\\training.csv\")\n",
    "B=pd.read_csv(\"C:\\\\Users\\\\SNEHAL\\\\OneDrive\\\\Desktop\\\\CSV files\\\\testing.csv\")\n",
    "A.head()"
   ]
  },
  {
   "cell_type": "code",
   "execution_count": 4,
   "id": "209acc6a",
   "metadata": {},
   "outputs": [
    {
     "data": {
      "text/plain": [
       "(614, 13)"
      ]
     },
     "execution_count": 4,
     "metadata": {},
     "output_type": "execute_result"
    }
   ],
   "source": [
    "A.shape"
   ]
  },
  {
   "cell_type": "code",
   "execution_count": 5,
   "id": "045f420f",
   "metadata": {
    "scrolled": true
   },
   "outputs": [
    {
     "data": {
      "text/plain": [
       "(367, 12)"
      ]
     },
     "execution_count": 5,
     "metadata": {},
     "output_type": "execute_result"
    }
   ],
   "source": [
    "B.shape"
   ]
  },
  {
   "cell_type": "code",
   "execution_count": 6,
   "id": "2bbba1e6",
   "metadata": {},
   "outputs": [
    {
     "name": "stdout",
     "output_type": "stream",
     "text": [
      "<class 'pandas.core.frame.DataFrame'>\n",
      "RangeIndex: 614 entries, 0 to 613\n",
      "Data columns (total 13 columns):\n",
      " #   Column             Non-Null Count  Dtype  \n",
      "---  ------             --------------  -----  \n",
      " 0   Loan_ID            614 non-null    object \n",
      " 1   Gender             599 non-null    object \n",
      " 2   Married            611 non-null    object \n",
      " 3   Dependents         599 non-null    object \n",
      " 4   Education          613 non-null    object \n",
      " 5   Self_Employed      582 non-null    object \n",
      " 6   ApplicantIncome    612 non-null    float64\n",
      " 7   CoapplicantIncome  613 non-null    float64\n",
      " 8   LoanAmount         592 non-null    float64\n",
      " 9   Loan_Amount_Term   600 non-null    float64\n",
      " 10  Credit_History     564 non-null    float64\n",
      " 11  Property_Area      614 non-null    object \n",
      " 12  Loan_Status        614 non-null    object \n",
      "dtypes: float64(5), object(8)\n",
      "memory usage: 62.5+ KB\n"
     ]
    }
   ],
   "source": [
    "A.info()"
   ]
  },
  {
   "cell_type": "markdown",
   "id": "74b8eba9",
   "metadata": {},
   "source": [
    "# missing data treatment"
   ]
  },
  {
   "cell_type": "code",
   "execution_count": 7,
   "id": "13dfb28e",
   "metadata": {
    "scrolled": true
   },
   "outputs": [
    {
     "data": {
      "text/plain": [
       "Loan_ID               0\n",
       "Gender               15\n",
       "Married               3\n",
       "Dependents           15\n",
       "Education             1\n",
       "Self_Employed        32\n",
       "ApplicantIncome       2\n",
       "CoapplicantIncome     1\n",
       "LoanAmount           22\n",
       "Loan_Amount_Term     14\n",
       "Credit_History       50\n",
       "Property_Area         0\n",
       "Loan_Status           0\n",
       "dtype: int64"
      ]
     },
     "execution_count": 7,
     "metadata": {},
     "output_type": "execute_result"
    }
   ],
   "source": [
    "A.isna().sum()"
   ]
  },
  {
   "cell_type": "code",
   "execution_count": 8,
   "id": "c0bf38b1",
   "metadata": {
    "scrolled": true
   },
   "outputs": [
    {
     "data": {
      "text/plain": [
       "0    1.0\n",
       "dtype: float64"
      ]
     },
     "execution_count": 8,
     "metadata": {},
     "output_type": "execute_result"
    }
   ],
   "source": [
    "A.Credit_History.mode()"
   ]
  },
  {
   "cell_type": "code",
   "execution_count": 9,
   "id": "00d548eb",
   "metadata": {},
   "outputs": [
    {
     "data": {
      "text/plain": [
       "0    1.0\n",
       "dtype: float64"
      ]
     },
     "execution_count": 9,
     "metadata": {},
     "output_type": "execute_result"
    }
   ],
   "source": [
    "B.Credit_History.mode()"
   ]
  },
  {
   "cell_type": "code",
   "execution_count": 10,
   "id": "25cc149e",
   "metadata": {},
   "outputs": [],
   "source": [
    "A.Credit_History=A.Credit_History.fillna(1.0)"
   ]
  },
  {
   "cell_type": "code",
   "execution_count": 11,
   "id": "95516ff6",
   "metadata": {},
   "outputs": [],
   "source": [
    "B.Credit_History=B.Credit_History.fillna(1.0)"
   ]
  },
  {
   "cell_type": "code",
   "execution_count": 12,
   "id": "2394366e",
   "metadata": {},
   "outputs": [],
   "source": [
    "from proj_module import replacer\n",
    "replacer(A)\n",
    "replacer(B)"
   ]
  },
  {
   "cell_type": "code",
   "execution_count": 13,
   "id": "798d0347",
   "metadata": {
    "scrolled": true
   },
   "outputs": [
    {
     "data": {
      "text/plain": [
       "Loan_ID              0\n",
       "Gender               0\n",
       "Married              0\n",
       "Dependents           0\n",
       "Education            0\n",
       "Self_Employed        0\n",
       "ApplicantIncome      0\n",
       "CoapplicantIncome    0\n",
       "LoanAmount           0\n",
       "Loan_Amount_Term     0\n",
       "Credit_History       0\n",
       "Property_Area        0\n",
       "Loan_Status          0\n",
       "dtype: int64"
      ]
     },
     "execution_count": 13,
     "metadata": {},
     "output_type": "execute_result"
    }
   ],
   "source": [
    "A.isna().sum()"
   ]
  },
  {
   "cell_type": "code",
   "execution_count": 14,
   "id": "4d9ea609",
   "metadata": {},
   "outputs": [
    {
     "name": "stdout",
     "output_type": "stream",
     "text": [
      "<class 'pandas.core.frame.DataFrame'>\n",
      "RangeIndex: 614 entries, 0 to 613\n",
      "Data columns (total 13 columns):\n",
      " #   Column             Non-Null Count  Dtype  \n",
      "---  ------             --------------  -----  \n",
      " 0   Loan_ID            614 non-null    object \n",
      " 1   Gender             614 non-null    object \n",
      " 2   Married            614 non-null    object \n",
      " 3   Dependents         614 non-null    object \n",
      " 4   Education          614 non-null    object \n",
      " 5   Self_Employed      614 non-null    object \n",
      " 6   ApplicantIncome    614 non-null    float64\n",
      " 7   CoapplicantIncome  614 non-null    float64\n",
      " 8   LoanAmount         614 non-null    float64\n",
      " 9   Loan_Amount_Term   614 non-null    float64\n",
      " 10  Credit_History     614 non-null    float64\n",
      " 11  Property_Area      614 non-null    object \n",
      " 12  Loan_Status        614 non-null    object \n",
      "dtypes: float64(5), object(8)\n",
      "memory usage: 62.5+ KB\n"
     ]
    }
   ],
   "source": [
    "A.info()"
   ]
  },
  {
   "cell_type": "code",
   "execution_count": 15,
   "id": "038ce3ae",
   "metadata": {},
   "outputs": [
    {
     "data": {
      "text/plain": [
       "0      1.0\n",
       "1      1.0\n",
       "2      1.0\n",
       "3      1.0\n",
       "4      1.0\n",
       "      ... \n",
       "362    1.0\n",
       "363    1.0\n",
       "364    1.0\n",
       "365    1.0\n",
       "366    1.0\n",
       "Name: Credit_History, Length: 367, dtype: float64"
      ]
     },
     "execution_count": 15,
     "metadata": {},
     "output_type": "execute_result"
    }
   ],
   "source": [
    "B.Credit_History"
   ]
  },
  {
   "cell_type": "markdown",
   "id": "2a110a09",
   "metadata": {},
   "source": [
    "# defining X and Y"
   ]
  },
  {
   "cell_type": "code",
   "execution_count": 16,
   "id": "2fc4aa87",
   "metadata": {},
   "outputs": [],
   "source": [
    "Y=A[[\"Loan_Status\"]]\n",
    "X=A.drop(labels=[\"Loan_ID\",\"Loan_Status\"],axis=1)"
   ]
  },
  {
   "cell_type": "markdown",
   "id": "881442a0",
   "metadata": {},
   "source": [
    "# EDA"
   ]
  },
  {
   "cell_type": "markdown",
   "id": "9dceb56e",
   "metadata": {},
   "source": [
    "y(cat) & x(con)=Anova/boxplot\n",
    "\n",
    "y(cat) & x(cat)=ChiSq/Counplot with hue"
   ]
  },
  {
   "cell_type": "code",
   "execution_count": 17,
   "id": "202b606b",
   "metadata": {},
   "outputs": [],
   "source": [
    "from proj_module import catconsep\n",
    "cat,con=catconsep(X)"
   ]
  },
  {
   "cell_type": "code",
   "execution_count": 18,
   "id": "9ac7280b",
   "metadata": {},
   "outputs": [
    {
     "data": {
      "text/plain": [
       "(['Gender',\n",
       "  'Married',\n",
       "  'Dependents',\n",
       "  'Education',\n",
       "  'Self_Employed',\n",
       "  'Property_Area'],\n",
       " ['ApplicantIncome',\n",
       "  'CoapplicantIncome',\n",
       "  'LoanAmount',\n",
       "  'Loan_Amount_Term',\n",
       "  'Credit_History'])"
      ]
     },
     "execution_count": 18,
     "metadata": {},
     "output_type": "execute_result"
    }
   ],
   "source": [
    "cat,con"
   ]
  },
  {
   "cell_type": "code",
   "execution_count": 19,
   "id": "faaaad9b",
   "metadata": {},
   "outputs": [
    {
     "name": "stdout",
     "output_type": "stream",
     "text": [
      "Loan_Status vs ApplicantIncome\n",
      "Pval:  0.9025\n",
      "Loan_Status vs CoapplicantIncome\n",
      "Pval:  0.1424\n",
      "Loan_Status vs LoanAmount\n",
      "Pval:  0.3677\n",
      "Loan_Status vs Loan_Amount_Term\n",
      "Pval:  0.604\n",
      "Loan_Status vs Credit_History\n",
      "Pval:  0.0\n"
     ]
    }
   ],
   "source": [
    "imp_cols = []\n",
    "from PM8 import ANOVA,chisquare\n",
    "for i in con:\n",
    "    q = ANOVA(A,\"Loan_Status\",i)\n",
    "    print(\"Loan_Status vs\",i)\n",
    "    print(\"Pval: \",q)\n",
    "    if(q < 0.15):\n",
    "        imp_cols.append(i)"
   ]
  },
  {
   "cell_type": "code",
   "execution_count": 20,
   "id": "40ced9e3",
   "metadata": {
    "scrolled": true
   },
   "outputs": [
    {
     "name": "stdout",
     "output_type": "stream",
     "text": [
      "Loan_Status vs Gender\n",
      "Pval:  0.7391461310869638\n",
      "Loan_Status vs Married\n",
      "Pval:  0.029608580862582116\n",
      "Loan_Status vs Dependents\n",
      "Pval:  0.3688663081366005\n",
      "Loan_Status vs Education\n",
      "Pval:  0.04309962129357355\n",
      "Loan_Status vs Self_Employed\n",
      "Pval:  0.9710746411403309\n",
      "Loan_Status vs Property_Area\n",
      "Pval:  0.0021360187811644915\n"
     ]
    }
   ],
   "source": [
    "for i in cat:\n",
    "    q = chisquare(A,\"Loan_Status\",i)\n",
    "    print(\"Loan_Status vs\",i)\n",
    "    print(\"Pval: \",q)\n",
    "    if(q < 0.15):\n",
    "        imp_cols.append(i)"
   ]
  },
  {
   "cell_type": "code",
   "execution_count": 21,
   "id": "313a68d6",
   "metadata": {},
   "outputs": [
    {
     "data": {
      "text/plain": [
       "['CoapplicantIncome',\n",
       " 'Credit_History',\n",
       " 'Married',\n",
       " 'Education',\n",
       " 'Property_Area']"
      ]
     },
     "execution_count": 21,
     "metadata": {},
     "output_type": "execute_result"
    }
   ],
   "source": [
    "imp_cols"
   ]
  },
  {
   "cell_type": "markdown",
   "id": "56617d6e",
   "metadata": {},
   "source": [
    "# Preprocessing"
   ]
  },
  {
   "cell_type": "code",
   "execution_count": 22,
   "id": "4ae7afca",
   "metadata": {
    "scrolled": true
   },
   "outputs": [
    {
     "data": {
      "text/plain": [
       "ApplicantIncome      6.538870\n",
       "CoapplicantIncome    7.492000\n",
       "LoanAmount           2.726601\n",
       "Loan_Amount_Term    -2.389680\n",
       "Credit_History      -2.021971\n",
       "dtype: float64"
      ]
     },
     "execution_count": 22,
     "metadata": {},
     "output_type": "execute_result"
    }
   ],
   "source": [
    "X.skew()"
   ]
  },
  {
   "cell_type": "code",
   "execution_count": 23,
   "id": "2f7187d3",
   "metadata": {},
   "outputs": [],
   "source": [
    "from numpy import log\n",
    "def skew_rem(df,col):\n",
    "    q=[]\n",
    "    for i in df[col]:\n",
    "        if(i != 0):\n",
    "            q.append(log(i))\n",
    "        else:\n",
    "            q.append(i)\n",
    "    df[col]=q"
   ]
  },
  {
   "cell_type": "code",
   "execution_count": 24,
   "id": "b0c79a9c",
   "metadata": {},
   "outputs": [],
   "source": [
    "skew_rem(X,'ApplicantIncome')\n",
    "skew_rem(X,'CoapplicantIncome')"
   ]
  },
  {
   "cell_type": "code",
   "execution_count": 25,
   "id": "7d4fc692",
   "metadata": {},
   "outputs": [
    {
     "data": {
      "text/plain": [
       "ApplicantIncome      0.477562\n",
       "CoapplicantIncome   -0.172920\n",
       "LoanAmount           2.726601\n",
       "Loan_Amount_Term    -2.389680\n",
       "Credit_History      -2.021971\n",
       "dtype: float64"
      ]
     },
     "execution_count": 25,
     "metadata": {},
     "output_type": "execute_result"
    }
   ],
   "source": [
    "X.skew()"
   ]
  },
  {
   "cell_type": "code",
   "execution_count": 26,
   "id": "4a3fbf2d",
   "metadata": {},
   "outputs": [],
   "source": [
    "from proj_module import preprocessing\n",
    "Xnew=preprocessing(X[imp_cols])"
   ]
  },
  {
   "cell_type": "code",
   "execution_count": 27,
   "id": "371c22a6",
   "metadata": {},
   "outputs": [
    {
     "data": {
      "text/plain": [
       "(614, 9)"
      ]
     },
     "execution_count": 27,
     "metadata": {},
     "output_type": "execute_result"
    }
   ],
   "source": [
    "Xnew.shape"
   ]
  },
  {
   "cell_type": "code",
   "execution_count": 28,
   "id": "973393dc",
   "metadata": {},
   "outputs": [
    {
     "data": {
      "text/html": [
       "<div>\n",
       "<style scoped>\n",
       "    .dataframe tbody tr th:only-of-type {\n",
       "        vertical-align: middle;\n",
       "    }\n",
       "\n",
       "    .dataframe tbody tr th {\n",
       "        vertical-align: top;\n",
       "    }\n",
       "\n",
       "    .dataframe thead th {\n",
       "        text-align: right;\n",
       "    }\n",
       "</style>\n",
       "<table border=\"1\" class=\"dataframe\">\n",
       "  <thead>\n",
       "    <tr style=\"text-align: right;\">\n",
       "      <th></th>\n",
       "      <th>CoapplicantIncome</th>\n",
       "      <th>Credit_History</th>\n",
       "      <th>Married_No</th>\n",
       "      <th>Married_Yes</th>\n",
       "      <th>Education_Graduate</th>\n",
       "      <th>Education_Not Graduate</th>\n",
       "      <th>Property_Area_Rural</th>\n",
       "      <th>Property_Area_Semiurban</th>\n",
       "      <th>Property_Area_Urban</th>\n",
       "    </tr>\n",
       "  </thead>\n",
       "  <tbody>\n",
       "    <tr>\n",
       "      <th>0</th>\n",
       "      <td>-1.107731</td>\n",
       "      <td>0.411733</td>\n",
       "      <td>1</td>\n",
       "      <td>0</td>\n",
       "      <td>1</td>\n",
       "      <td>0</td>\n",
       "      <td>0</td>\n",
       "      <td>0</td>\n",
       "      <td>1</td>\n",
       "    </tr>\n",
       "    <tr>\n",
       "      <th>1</th>\n",
       "      <td>0.782215</td>\n",
       "      <td>0.411733</td>\n",
       "      <td>0</td>\n",
       "      <td>1</td>\n",
       "      <td>1</td>\n",
       "      <td>0</td>\n",
       "      <td>1</td>\n",
       "      <td>0</td>\n",
       "      <td>0</td>\n",
       "    </tr>\n",
       "    <tr>\n",
       "      <th>2</th>\n",
       "      <td>-1.107731</td>\n",
       "      <td>0.411733</td>\n",
       "      <td>0</td>\n",
       "      <td>1</td>\n",
       "      <td>1</td>\n",
       "      <td>0</td>\n",
       "      <td>0</td>\n",
       "      <td>0</td>\n",
       "      <td>1</td>\n",
       "    </tr>\n",
       "    <tr>\n",
       "      <th>3</th>\n",
       "      <td>0.897656</td>\n",
       "      <td>0.411733</td>\n",
       "      <td>0</td>\n",
       "      <td>1</td>\n",
       "      <td>0</td>\n",
       "      <td>1</td>\n",
       "      <td>0</td>\n",
       "      <td>0</td>\n",
       "      <td>1</td>\n",
       "    </tr>\n",
       "    <tr>\n",
       "      <th>4</th>\n",
       "      <td>-1.107731</td>\n",
       "      <td>0.411733</td>\n",
       "      <td>1</td>\n",
       "      <td>0</td>\n",
       "      <td>1</td>\n",
       "      <td>0</td>\n",
       "      <td>0</td>\n",
       "      <td>0</td>\n",
       "      <td>1</td>\n",
       "    </tr>\n",
       "  </tbody>\n",
       "</table>\n",
       "</div>"
      ],
      "text/plain": [
       "   CoapplicantIncome  Credit_History  Married_No  Married_Yes  \\\n",
       "0          -1.107731        0.411733           1            0   \n",
       "1           0.782215        0.411733           0            1   \n",
       "2          -1.107731        0.411733           0            1   \n",
       "3           0.897656        0.411733           0            1   \n",
       "4          -1.107731        0.411733           1            0   \n",
       "\n",
       "   Education_Graduate  Education_Not Graduate  Property_Area_Rural  \\\n",
       "0                   1                       0                    0   \n",
       "1                   1                       0                    1   \n",
       "2                   1                       0                    0   \n",
       "3                   0                       1                    0   \n",
       "4                   1                       0                    0   \n",
       "\n",
       "   Property_Area_Semiurban  Property_Area_Urban  \n",
       "0                        0                    1  \n",
       "1                        0                    0  \n",
       "2                        0                    1  \n",
       "3                        0                    1  \n",
       "4                        0                    1  "
      ]
     },
     "execution_count": 28,
     "metadata": {},
     "output_type": "execute_result"
    }
   ],
   "source": [
    "Xnew.head()"
   ]
  },
  {
   "cell_type": "markdown",
   "id": "e7176ada",
   "metadata": {},
   "source": [
    "\n",
    "# train_test split"
   ]
  },
  {
   "cell_type": "code",
   "execution_count": 29,
   "id": "a49774ae",
   "metadata": {},
   "outputs": [],
   "source": [
    "from sklearn.model_selection import train_test_split\n",
    "xtrain,xtest,ytrain,ytest=train_test_split(Xnew,Y,test_size=0.2,random_state=21)"
   ]
  },
  {
   "cell_type": "markdown",
   "id": "1e8a98b7",
   "metadata": {},
   "source": [
    "# Model"
   ]
  },
  {
   "cell_type": "code",
   "execution_count": 30,
   "id": "d8e8a477",
   "metadata": {},
   "outputs": [],
   "source": [
    "from sklearn.linear_model import LogisticRegression\n",
    "lr = LogisticRegression()\n",
    "model = lr.fit(xtrain,ytrain)"
   ]
  },
  {
   "cell_type": "markdown",
   "id": "bf4a5b47",
   "metadata": {},
   "source": [
    "# create predictions"
   ]
  },
  {
   "cell_type": "code",
   "execution_count": 31,
   "id": "07f177ba",
   "metadata": {},
   "outputs": [],
   "source": [
    "pred_tr = model.predict(xtrain)\n",
    "pred_ts = model.predict(xtest)"
   ]
  },
  {
   "cell_type": "markdown",
   "id": "fa376746",
   "metadata": {},
   "source": [
    "# checking error"
   ]
  },
  {
   "cell_type": "code",
   "execution_count": 32,
   "id": "ab392932",
   "metadata": {},
   "outputs": [],
   "source": [
    "from sklearn.metrics import accuracy_score\n",
    "tr_acc = accuracy_score(ytrain,pred_tr)\n",
    "ts_acc = accuracy_score(ytest,pred_ts)"
   ]
  },
  {
   "cell_type": "code",
   "execution_count": 33,
   "id": "b36d5b7c",
   "metadata": {},
   "outputs": [
    {
     "data": {
      "text/plain": [
       "0.8065173116089613"
      ]
     },
     "execution_count": 33,
     "metadata": {},
     "output_type": "execute_result"
    }
   ],
   "source": [
    "tr_acc"
   ]
  },
  {
   "cell_type": "code",
   "execution_count": 34,
   "id": "58a28f29",
   "metadata": {},
   "outputs": [
    {
     "data": {
      "text/plain": [
       "0.8211382113821138"
      ]
     },
     "execution_count": 34,
     "metadata": {},
     "output_type": "execute_result"
    }
   ],
   "source": [
    "ts_acc"
   ]
  },
  {
   "cell_type": "markdown",
   "id": "24593559",
   "metadata": {},
   "source": [
    "# KNN"
   ]
  },
  {
   "cell_type": "code",
   "execution_count": 35,
   "id": "8c613a70",
   "metadata": {},
   "outputs": [],
   "source": [
    "X = A.drop(labels=[\"Loan_ID\",\"Loan_Status\"],axis=1)\n",
    "Xnew = preprocessing(X)"
   ]
  },
  {
   "cell_type": "code",
   "execution_count": 36,
   "id": "6fe05981",
   "metadata": {},
   "outputs": [],
   "source": [
    "from sklearn.neighbors import KNeighborsRegressor\n",
    "knn = KNeighborsRegressor(n_neighbors=5)"
   ]
  },
  {
   "cell_type": "code",
   "execution_count": 37,
   "id": "f901420f",
   "metadata": {},
   "outputs": [],
   "source": [
    "k = range(2,10)\n",
    "tr = []\n",
    "ts = []\n",
    "for i in k:\n",
    "    from sklearn.neighbors import KNeighborsClassifier\n",
    "    knc = KNeighborsClassifier(n_neighbors=i)\n",
    "    model = knc.fit(xtrain,ytrain)\n",
    "    pred_tr = model.predict(xtest)\n",
    "    pred_ts = model.predict(xtrain)\n",
    "    from sklearn.metrics import accuracy_score\n",
    "    ts_acc = accuracy_score(ytest,pred_tr)\n",
    "    tr_acc = accuracy_score(ytrain,pred_ts)\n",
    "    tr.append(tr_acc)\n",
    "    ts.append(ts_acc)"
   ]
  },
  {
   "cell_type": "code",
   "execution_count": 38,
   "id": "7324c90c",
   "metadata": {
    "scrolled": false
   },
   "outputs": [
    {
     "data": {
      "text/plain": [
       "[<matplotlib.lines.Line2D at 0x1a865cf4430>]"
      ]
     },
     "execution_count": 38,
     "metadata": {},
     "output_type": "execute_result"
    },
    {
     "data": {
      "image/png": "[encoded data removed]",
      "text/plain": [
       "<Figure size 432x288 with 1 Axes>"
      ]
     },
     "metadata": {
      "needs_background": "light"
     },
     "output_type": "display_data"
    }
   ],
   "source": [
    "import matplotlib.pyplot as plt\n",
    "plt.plot(k,tr,c=\"blue\")\n",
    "plt.plot(k,ts,c=\"red\")"
   ]
  },
  {
   "cell_type": "code",
   "execution_count": 39,
   "id": "956501d0",
   "metadata": {},
   "outputs": [
    {
     "data": {
      "text/plain": [
       "([<matplotlib.axis.XTick at 0x1a865db6fd0>,\n",
       "  <matplotlib.axis.XTick at 0x1a865db6fa0>,\n",
       "  <matplotlib.axis.XTick at 0x1a865dafb20>,\n",
       "  <matplotlib.axis.XTick at 0x1a865ddbe50>,\n",
       "  <matplotlib.axis.XTick at 0x1a865de73a0>,\n",
       "  <matplotlib.axis.XTick at 0x1a865de78b0>,\n",
       "  <matplotlib.axis.XTick at 0x1a865de7dc0>,\n",
       "  <matplotlib.axis.XTick at 0x1a865ded310>],\n",
       " [Text(0, 0, ''),\n",
       "  Text(0, 0, ''),\n",
       "  Text(0, 0, ''),\n",
       "  Text(0, 0, ''),\n",
       "  Text(0, 0, ''),\n",
       "  Text(0, 0, ''),\n",
       "  Text(0, 0, ''),\n",
       "  Text(0, 0, '')])"
      ]
     },
     "execution_count": 39,
     "metadata": {},
     "output_type": "execute_result"
    },
    {
     "data": {
      "image/png": "[encoded data removed]",
      "text/plain": [
       "<Figure size 432x288 with 1 Axes>"
      ]
     },
     "metadata": {
      "needs_background": "light"
     },
     "output_type": "display_data"
    }
   ],
   "source": [
    "import matplotlib.pyplot as plt\n",
    "plt.plot(tr)\n",
    "plt.plot(ts)\n",
    "plt.xticks(range(2,10,1))"
   ]
  },
  {
   "cell_type": "markdown",
   "id": "4df529b8",
   "metadata": {},
   "source": [
    "# prdict and saving to file"
   ]
  },
  {
   "cell_type": "code",
   "execution_count": 40,
   "id": "dd06ecfa",
   "metadata": {},
   "outputs": [],
   "source": [
    "B=pd.read_csv(\"C:\\\\Users\\\\SNEHAL\\\\OneDrive\\\\Desktop\\\\CSV files\\\\testing.csv\")"
   ]
  },
  {
   "cell_type": "code",
   "execution_count": 41,
   "id": "bd1fa767",
   "metadata": {
    "scrolled": true
   },
   "outputs": [
    {
     "data": {
      "text/html": [
       "<div>\n",
       "<style scoped>\n",
       "    .dataframe tbody tr th:only-of-type {\n",
       "        vertical-align: middle;\n",
       "    }\n",
       "\n",
       "    .dataframe tbody tr th {\n",
       "        vertical-align: top;\n",
       "    }\n",
       "\n",
       "    .dataframe thead th {\n",
       "        text-align: right;\n",
       "    }\n",
       "</style>\n",
       "<table border=\"1\" class=\"dataframe\">\n",
       "  <thead>\n",
       "    <tr style=\"text-align: right;\">\n",
       "      <th></th>\n",
       "      <th>Loan_ID</th>\n",
       "      <th>Gender</th>\n",
       "      <th>Married</th>\n",
       "      <th>Dependents</th>\n",
       "      <th>Education</th>\n",
       "      <th>Self_Employed</th>\n",
       "      <th>ApplicantIncome</th>\n",
       "      <th>CoapplicantIncome</th>\n",
       "      <th>LoanAmount</th>\n",
       "      <th>Loan_Amount_Term</th>\n",
       "      <th>Credit_History</th>\n",
       "      <th>Property_Area</th>\n",
       "    </tr>\n",
       "  </thead>\n",
       "  <tbody>\n",
       "    <tr>\n",
       "      <th>0</th>\n",
       "      <td>LP001015</td>\n",
       "      <td>Male</td>\n",
       "      <td>Yes</td>\n",
       "      <td>0</td>\n",
       "      <td>Graduate</td>\n",
       "      <td>No</td>\n",
       "      <td>5720</td>\n",
       "      <td>0</td>\n",
       "      <td>110.0</td>\n",
       "      <td>360.0</td>\n",
       "      <td>1.0</td>\n",
       "      <td>Urban</td>\n",
       "    </tr>\n",
       "    <tr>\n",
       "      <th>1</th>\n",
       "      <td>LP001022</td>\n",
       "      <td>Male</td>\n",
       "      <td>Yes</td>\n",
       "      <td>1</td>\n",
       "      <td>Graduate</td>\n",
       "      <td>No</td>\n",
       "      <td>3076</td>\n",
       "      <td>1500</td>\n",
       "      <td>126.0</td>\n",
       "      <td>360.0</td>\n",
       "      <td>1.0</td>\n",
       "      <td>Urban</td>\n",
       "    </tr>\n",
       "    <tr>\n",
       "      <th>2</th>\n",
       "      <td>LP001031</td>\n",
       "      <td>Male</td>\n",
       "      <td>Yes</td>\n",
       "      <td>2</td>\n",
       "      <td>Graduate</td>\n",
       "      <td>No</td>\n",
       "      <td>5000</td>\n",
       "      <td>1800</td>\n",
       "      <td>208.0</td>\n",
       "      <td>360.0</td>\n",
       "      <td>1.0</td>\n",
       "      <td>Urban</td>\n",
       "    </tr>\n",
       "    <tr>\n",
       "      <th>3</th>\n",
       "      <td>LP001035</td>\n",
       "      <td>Male</td>\n",
       "      <td>Yes</td>\n",
       "      <td>2</td>\n",
       "      <td>Graduate</td>\n",
       "      <td>No</td>\n",
       "      <td>2340</td>\n",
       "      <td>2546</td>\n",
       "      <td>100.0</td>\n",
       "      <td>360.0</td>\n",
       "      <td>NaN</td>\n",
       "      <td>Urban</td>\n",
       "    </tr>\n",
       "    <tr>\n",
       "      <th>4</th>\n",
       "      <td>LP001051</td>\n",
       "      <td>Male</td>\n",
       "      <td>No</td>\n",
       "      <td>0</td>\n",
       "      <td>Not Graduate</td>\n",
       "      <td>No</td>\n",
       "      <td>3276</td>\n",
       "      <td>0</td>\n",
       "      <td>78.0</td>\n",
       "      <td>360.0</td>\n",
       "      <td>1.0</td>\n",
       "      <td>Urban</td>\n",
       "    </tr>\n",
       "  </tbody>\n",
       "</table>\n",
       "</div>"
      ],
      "text/plain": [
       "    Loan_ID Gender Married Dependents     Education Self_Employed  \\\n",
       "0  LP001015   Male     Yes          0      Graduate            No   \n",
       "1  LP001022   Male     Yes          1      Graduate            No   \n",
       "2  LP001031   Male     Yes          2      Graduate            No   \n",
       "3  LP001035   Male     Yes          2      Graduate            No   \n",
       "4  LP001051   Male      No          0  Not Graduate            No   \n",
       "\n",
       "   ApplicantIncome  CoapplicantIncome  LoanAmount  Loan_Amount_Term  \\\n",
       "0             5720                  0       110.0             360.0   \n",
       "1             3076               1500       126.0             360.0   \n",
       "2             5000               1800       208.0             360.0   \n",
       "3             2340               2546       100.0             360.0   \n",
       "4             3276                  0        78.0             360.0   \n",
       "\n",
       "   Credit_History Property_Area  \n",
       "0             1.0         Urban  \n",
       "1             1.0         Urban  \n",
       "2             1.0         Urban  \n",
       "3             NaN         Urban  \n",
       "4             1.0         Urban  "
      ]
     },
     "execution_count": 41,
     "metadata": {},
     "output_type": "execute_result"
    }
   ],
   "source": [
    "B.head()"
   ]
  },
  {
   "cell_type": "code",
   "execution_count": 42,
   "id": "06053302",
   "metadata": {},
   "outputs": [],
   "source": [
    "X = B.drop(labels=[\"Loan_ID\"],axis=1)\n",
    "replacer(X)\n",
    "Xnew = preprocessing(X[imp_cols])\n",
    "pred = model.predict(Xnew)"
   ]
  },
  {
   "cell_type": "code",
   "execution_count": 43,
   "id": "645f3c4e",
   "metadata": {},
   "outputs": [],
   "source": [
    "B['Loan_Status_Pred']=pred"
   ]
  },
  {
   "cell_type": "code",
   "execution_count": 44,
   "id": "bfa810ad",
   "metadata": {},
   "outputs": [
    {
     "data": {
      "text/html": [
       "<div>\n",
       "<style scoped>\n",
       "    .dataframe tbody tr th:only-of-type {\n",
       "        vertical-align: middle;\n",
       "    }\n",
       "\n",
       "    .dataframe tbody tr th {\n",
       "        vertical-align: top;\n",
       "    }\n",
       "\n",
       "    .dataframe thead th {\n",
       "        text-align: right;\n",
       "    }\n",
       "</style>\n",
       "<table border=\"1\" class=\"dataframe\">\n",
       "  <thead>\n",
       "    <tr style=\"text-align: right;\">\n",
       "      <th></th>\n",
       "      <th>Loan_ID</th>\n",
       "      <th>Gender</th>\n",
       "      <th>Married</th>\n",
       "      <th>Dependents</th>\n",
       "      <th>Education</th>\n",
       "      <th>Self_Employed</th>\n",
       "      <th>ApplicantIncome</th>\n",
       "      <th>CoapplicantIncome</th>\n",
       "      <th>LoanAmount</th>\n",
       "      <th>Loan_Amount_Term</th>\n",
       "      <th>Credit_History</th>\n",
       "      <th>Property_Area</th>\n",
       "      <th>Loan_Status_Pred</th>\n",
       "    </tr>\n",
       "  </thead>\n",
       "  <tbody>\n",
       "    <tr>\n",
       "      <th>0</th>\n",
       "      <td>LP001015</td>\n",
       "      <td>Male</td>\n",
       "      <td>Yes</td>\n",
       "      <td>0</td>\n",
       "      <td>Graduate</td>\n",
       "      <td>No</td>\n",
       "      <td>5720</td>\n",
       "      <td>0</td>\n",
       "      <td>110.0</td>\n",
       "      <td>360.0</td>\n",
       "      <td>1.0</td>\n",
       "      <td>Urban</td>\n",
       "      <td>Y</td>\n",
       "    </tr>\n",
       "    <tr>\n",
       "      <th>1</th>\n",
       "      <td>LP001022</td>\n",
       "      <td>Male</td>\n",
       "      <td>Yes</td>\n",
       "      <td>1</td>\n",
       "      <td>Graduate</td>\n",
       "      <td>No</td>\n",
       "      <td>3076</td>\n",
       "      <td>1500</td>\n",
       "      <td>126.0</td>\n",
       "      <td>360.0</td>\n",
       "      <td>1.0</td>\n",
       "      <td>Urban</td>\n",
       "      <td>Y</td>\n",
       "    </tr>\n",
       "  </tbody>\n",
       "</table>\n",
       "</div>"
      ],
      "text/plain": [
       "    Loan_ID Gender Married Dependents Education Self_Employed  \\\n",
       "0  LP001015   Male     Yes          0  Graduate            No   \n",
       "1  LP001022   Male     Yes          1  Graduate            No   \n",
       "\n",
       "   ApplicantIncome  CoapplicantIncome  LoanAmount  Loan_Amount_Term  \\\n",
       "0             5720                  0       110.0             360.0   \n",
       "1             3076               1500       126.0             360.0   \n",
       "\n",
       "   Credit_History Property_Area Loan_Status_Pred  \n",
       "0             1.0         Urban                Y  \n",
       "1             1.0         Urban                Y  "
      ]
     },
     "execution_count": 44,
     "metadata": {},
     "output_type": "execute_result"
    }
   ],
   "source": [
    "B.head(2)"
   ]
  },
  {
   "cell_type": "code",
   "execution_count": 45,
   "id": "a89cd6b7",
   "metadata": {},
   "outputs": [],
   "source": [
    "Q = B[[\"Loan_ID\"]]"
   ]
  },
  {
   "cell_type": "code",
   "execution_count": 46,
   "id": "9775a644",
   "metadata": {},
   "outputs": [],
   "source": [
    "Q['Loan_Status']=pred"
   ]
  },
  {
   "cell_type": "code",
   "execution_count": 47,
   "id": "ae63a327",
   "metadata": {},
   "outputs": [],
   "source": [
    "Q.to_csv(\"C:\\\\Users\\\\SNEHAL\\\\OneDrive\\\\Desktop\\\\CSV files\\\\submissions_2.csv\")"
   ]
  },
  {
   "cell_type": "markdown",
   "id": "53ef9b3d",
   "metadata": {},
   "source": [
    "# 2.Identify customer segments from given data and categorize customer into one of the segments.(Clustering)"
   ]
  },
  {
   "cell_type": "markdown",
   "id": "b3dee2ae",
   "metadata": {},
   "source": [
    "a.)what can be amount for the given duration.(Regression)"
   ]
  },
  {
   "cell_type": "code",
   "execution_count": 48,
   "id": "02b83b69",
   "metadata": {},
   "outputs": [],
   "source": [
    "X = A[[\"Credit_History\",\"LoanAmount\",\"CoapplicantIncome\"]]"
   ]
  },
  {
   "cell_type": "code",
   "execution_count": 49,
   "id": "5d7aaaaf",
   "metadata": {},
   "outputs": [],
   "source": [
    "from sklearn.preprocessing import StandardScaler\n",
    "ss = StandardScaler()\n",
    "Xnew = pd.DataFrame(ss.fit_transform(X),columns=[\"Credit_History\",\"LoanAmount\",\"CoapplicantIncome\"])"
   ]
  },
  {
   "cell_type": "code",
   "execution_count": 50,
   "id": "94f9029e",
   "metadata": {},
   "outputs": [],
   "source": [
    "from sklearn.cluster import KMeans\n",
    "km = KMeans(n_clusters=2)\n",
    "model = km.fit(Xnew)"
   ]
  },
  {
   "cell_type": "code",
   "execution_count": 51,
   "id": "9e910560",
   "metadata": {},
   "outputs": [],
   "source": [
    "X['Cluster'] = model.labels_"
   ]
  },
  {
   "cell_type": "code",
   "execution_count": 52,
   "id": "b7f4b8b4",
   "metadata": {},
   "outputs": [],
   "source": [
    "q = []\n",
    "for i in X.Credit_History:\n",
    "    if(i < 0.5):\n",
    "        q.append(0)\n",
    "    else:\n",
    "        q.append(1)"
   ]
  },
  {
   "cell_type": "code",
   "execution_count": 53,
   "id": "bef68dba",
   "metadata": {},
   "outputs": [],
   "source": [
    "X.Credit_History = q"
   ]
  },
  {
   "cell_type": "code",
   "execution_count": 54,
   "id": "e7a76ad8",
   "metadata": {},
   "outputs": [],
   "source": [
    "from sklearn.preprocessing import LabelEncoder\n",
    "le = LabelEncoder()\n",
    "w = le.fit_transform(A['Loan_Status'])"
   ]
  },
  {
   "cell_type": "code",
   "execution_count": 55,
   "id": "0d4d0122",
   "metadata": {},
   "outputs": [
    {
     "data": {
      "text/plain": [
       "<matplotlib.collections.PathCollection at 0x1a86611d340>"
      ]
     },
     "execution_count": 55,
     "metadata": {},
     "output_type": "execute_result"
    },
    {
     "data": {
      "image/png": "[encoded data removed]",
      "text/plain": [
       "<Figure size 1080x720 with 5 Axes>"
      ]
     },
     "metadata": {
      "needs_background": "light"
     },
     "output_type": "display_data"
    }
   ],
   "source": [
    "plt.figure(figsize=(15,10))\n",
    "plt.subplot(2,3,1)\n",
    "plt.scatter(X.LoanAmount,X.CoapplicantIncome,c=w)\n",
    "plt.subplot(2,3,2)\n",
    "plt.scatter(X.LoanAmount,X.CoapplicantIncome,c=X.Cluster)\n",
    "plt.subplot(2,3,3)\n",
    "plt.scatter(X.LoanAmount,X.CoapplicantIncome,c=q)\n",
    "plt.subplot(2,3,4)\n",
    "plt.scatter(X.LoanAmount,X.CoapplicantIncome,c=w)\n",
    "plt.subplot(2,3,5)\n",
    "plt.scatter(X.LoanAmount,X.CoapplicantIncome,c=X.Cluster)"
   ]
  },
  {
   "cell_type": "markdown",
   "id": "f5bbb185",
   "metadata": {},
   "source": [
    "# 3.If customer is not eligible for the input required amount and duration:"
   ]
  },
  {
   "cell_type": "code",
   "execution_count": 56,
   "id": "ad88ae0c",
   "metadata": {},
   "outputs": [],
   "source": [
    "P1 = A[A.Loan_Status == \"Y\"]\n",
    "P2 = B[B.Loan_Status_Pred == \"Y\"]\n",
    "P2 = P2.rename({\"Loan_Status_Pred\":\"Loan_Status\"},axis=1)\n",
    "trd = pd.concat([P1,P2])"
   ]
  },
  {
   "cell_type": "markdown",
   "id": "8c5f7ec7",
   "metadata": {},
   "source": [
    "# Missing Data"
   ]
  },
  {
   "cell_type": "code",
   "execution_count": 57,
   "id": "7e8bd844",
   "metadata": {},
   "outputs": [],
   "source": [
    "replacer(trd)"
   ]
  },
  {
   "cell_type": "code",
   "execution_count": 81,
   "id": "4b0406c6",
   "metadata": {},
   "outputs": [],
   "source": [
    "cat = []\n",
    "con = []\n",
    "for i in trd.columns:\n",
    "    if(trd[i].dtypes == \"object\"):\n",
    "        cat.append(i)\n",
    "    else:\n",
    "        con.append(i)\n",
    "#cat,con"
   ]
  },
  {
   "cell_type": "code",
   "execution_count": 82,
   "id": "8cbb21c8",
   "metadata": {},
   "outputs": [],
   "source": [
    "cat.remove(\"Loan_ID\")\n",
    "con.remove(\"LoanAmount\")\n",
    "cat.remove(\"Loan_Status\")"
   ]
  },
  {
   "cell_type": "markdown",
   "id": "21bcfab4",
   "metadata": {},
   "source": [
    "# Defining X & Y"
   ]
  },
  {
   "cell_type": "code",
   "execution_count": 83,
   "id": "fceb3f09",
   "metadata": {},
   "outputs": [],
   "source": [
    "Y = trd[[\"LoanAmount\"]]\n",
    "X = trd.drop(labels=[\"LoanAmount\",\"Loan_ID\",\"Loan_Status\"],axis=1)"
   ]
  },
  {
   "cell_type": "code",
   "execution_count": 84,
   "id": "601450b5",
   "metadata": {},
   "outputs": [],
   "source": [
    "from proj_module import catconsep\n",
    "cat,con=catconsep(X)"
   ]
  },
  {
   "cell_type": "code",
   "execution_count": 85,
   "id": "9b0dc98c",
   "metadata": {},
   "outputs": [],
   "source": [
    "from sklearn.preprocessing import StandardScaler\n",
    "ss1 = StandardScaler()\n",
    "X1 = pd.DataFrame(ss1.fit_transform(X[con]),columns=con)\n",
    "X2 = pd.get_dummies(X[cat])\n",
    "X2.index = range(0,723)\n",
    "Xnew = X1.join(X2)"
   ]
  },
  {
   "cell_type": "code",
   "execution_count": 86,
   "id": "66053345",
   "metadata": {},
   "outputs": [],
   "source": [
    "from sklearn.model_selection import train_test_split\n",
    "xtrain,xtest,ytrain,ytest=train_test_split(Xnew,Y,test_size=0.2,random_state=21)"
   ]
  },
  {
   "cell_type": "code",
   "execution_count": 87,
   "id": "b561e4e8",
   "metadata": {},
   "outputs": [
    {
     "data": {
      "text/html": [
       "<div>\n",
       "<style scoped>\n",
       "    .dataframe tbody tr th:only-of-type {\n",
       "        vertical-align: middle;\n",
       "    }\n",
       "\n",
       "    .dataframe tbody tr th {\n",
       "        vertical-align: top;\n",
       "    }\n",
       "\n",
       "    .dataframe thead th {\n",
       "        text-align: right;\n",
       "    }\n",
       "</style>\n",
       "<table border=\"1\" class=\"dataframe\">\n",
       "  <thead>\n",
       "    <tr style=\"text-align: right;\">\n",
       "      <th></th>\n",
       "      <th>LoanAmount</th>\n",
       "    </tr>\n",
       "  </thead>\n",
       "  <tbody>\n",
       "    <tr>\n",
       "      <th>ApplicantIncome</th>\n",
       "      <td>0.576951</td>\n",
       "    </tr>\n",
       "    <tr>\n",
       "      <th>CoapplicantIncome</th>\n",
       "      <td>0.154097</td>\n",
       "    </tr>\n",
       "    <tr>\n",
       "      <th>LoanAmount</th>\n",
       "      <td>1.000000</td>\n",
       "    </tr>\n",
       "    <tr>\n",
       "      <th>Loan_Amount_Term</th>\n",
       "      <td>0.063168</td>\n",
       "    </tr>\n",
       "    <tr>\n",
       "      <th>Credit_History</th>\n",
       "      <td>-0.083699</td>\n",
       "    </tr>\n",
       "  </tbody>\n",
       "</table>\n",
       "</div>"
      ],
      "text/plain": [
       "                   LoanAmount\n",
       "ApplicantIncome      0.576951\n",
       "CoapplicantIncome    0.154097\n",
       "LoanAmount           1.000000\n",
       "Loan_Amount_Term     0.063168\n",
       "Credit_History      -0.083699"
      ]
     },
     "execution_count": 87,
     "metadata": {},
     "output_type": "execute_result"
    }
   ],
   "source": [
    "trd.corr()[[\"LoanAmount\"]]"
   ]
  },
  {
   "cell_type": "markdown",
   "id": "0925669a",
   "metadata": {},
   "source": [
    "# ML Model"
   ]
  },
  {
   "cell_type": "code",
   "execution_count": 88,
   "id": "be33a39e",
   "metadata": {},
   "outputs": [],
   "source": [
    "from sklearn.linear_model import LinearRegression\n",
    "lm = LinearRegression()\n",
    "model = lm.fit(xtrain,ytrain)"
   ]
  },
  {
   "cell_type": "code",
   "execution_count": 94,
   "id": "3a55bd79",
   "metadata": {},
   "outputs": [],
   "source": [
    "from sklearn.linear_model import LinearRegression\n",
    "lm = LinearRegression()\n",
    "model = lm.fit(xtrain,ytrain)\n",
    "tr_pred = model.predict(xtrain)\n",
    "ts_pred = model.predict(xtest)\n",
    "\n",
    "from sklearn.metrics import mean_absolute_error\n",
    "tr_err = mean_absolute_error(ytrain,tr_pred)\n",
    "ts_err = mean_absolute_error(ytest,ts_pred)"
   ]
  },
  {
   "cell_type": "code",
   "execution_count": 95,
   "id": "2f373b22",
   "metadata": {},
   "outputs": [
    {
     "data": {
      "text/plain": [
       "36.40019125549705"
      ]
     },
     "execution_count": 95,
     "metadata": {},
     "output_type": "execute_result"
    }
   ],
   "source": [
    "tr_err"
   ]
  },
  {
   "cell_type": "code",
   "execution_count": 96,
   "id": "860f3584",
   "metadata": {},
   "outputs": [
    {
     "data": {
      "text/plain": [
       "38.24071756504779"
      ]
     },
     "execution_count": 96,
     "metadata": {},
     "output_type": "execute_result"
    }
   ],
   "source": [
    "ts_err"
   ]
  },
  {
   "cell_type": "markdown",
   "id": "9aa93e09",
   "metadata": {},
   "source": [
    "# Prepare Data for making predictions"
   ]
  },
  {
   "cell_type": "code",
   "execution_count": 97,
   "id": "919616fb",
   "metadata": {},
   "outputs": [],
   "source": [
    "test = B[B.Loan_Status_Pred == \"N\"]\n",
    "test = test.drop(labels=[\"Loan_Status_Pred\",\"Loan_ID\",\"LoanAmount\"],axis=1)"
   ]
  },
  {
   "cell_type": "code",
   "execution_count": 98,
   "id": "bd95f1cd",
   "metadata": {},
   "outputs": [
    {
     "data": {
      "text/plain": [
       "Gender               0\n",
       "Married              0\n",
       "Dependents           0\n",
       "Education            0\n",
       "Self_Employed        0\n",
       "ApplicantIncome      0\n",
       "CoapplicantIncome    0\n",
       "Loan_Amount_Term     0\n",
       "Credit_History       0\n",
       "Property_Area        0\n",
       "dtype: int64"
      ]
     },
     "execution_count": 98,
     "metadata": {},
     "output_type": "execute_result"
    }
   ],
   "source": [
    "replacer(test)\n",
    "test.isna().sum()"
   ]
  },
  {
   "cell_type": "code",
   "execution_count": 99,
   "id": "1a0dbdb3",
   "metadata": {},
   "outputs": [
    {
     "data": {
      "text/plain": [
       "(723, 19)"
      ]
     },
     "execution_count": 99,
     "metadata": {},
     "output_type": "execute_result"
    }
   ],
   "source": [
    "Xnew.shape"
   ]
  },
  {
   "cell_type": "code",
   "execution_count": 101,
   "id": "1d88dbcf",
   "metadata": {},
   "outputs": [],
   "source": [
    "ss1 = StandardScaler()\n",
    "X1 = pd.DataFrame(ss1.fit_transform(test[con]),columns=con)\n",
    "X2 = pd.get_dummies(test[cat])\n",
    "X2.index = range(0,66)\n",
    "Xnew = X1.join(X2)"
   ]
  },
  {
   "cell_type": "code",
   "execution_count": 103,
   "id": "26a36472",
   "metadata": {},
   "outputs": [
    {
     "data": {
      "text/plain": [
       "array([[132.1447543 ],\n",
       "       [297.79228649],\n",
       "       [188.84384449],\n",
       "       [104.2570986 ],\n",
       "       [ 92.82739679],\n",
       "       [116.45599869],\n",
       "       [148.89045152],\n",
       "       [ 96.00114702],\n",
       "       [134.30100802],\n",
       "       [124.64878009],\n",
       "       [136.92196771],\n",
       "       [136.64001966],\n",
       "       [152.62983936],\n",
       "       [119.52781765],\n",
       "       [163.80524183],\n",
       "       [120.699776  ],\n",
       "       [ 82.05974874],\n",
       "       [109.26236577],\n",
       "       [ 92.47363428],\n",
       "       [108.35849462],\n",
       "       [130.48620159],\n",
       "       [273.98166043],\n",
       "       [161.73661407],\n",
       "       [133.36964063],\n",
       "       [174.30470369],\n",
       "       [209.11435962],\n",
       "       [107.04214697],\n",
       "       [100.83920142],\n",
       "       [ 74.64026057],\n",
       "       [ 74.57316115],\n",
       "       [115.37145838],\n",
       "       [ 90.90765978],\n",
       "       [103.5341133 ],\n",
       "       [147.65084874],\n",
       "       [111.16034716],\n",
       "       [153.40521413],\n",
       "       [120.85038711],\n",
       "       [158.73902707],\n",
       "       [172.47531991],\n",
       "       [141.51477205],\n",
       "       [406.88888684],\n",
       "       [ 99.74209624],\n",
       "       [121.05503174],\n",
       "       [141.76773715],\n",
       "       [118.2401288 ],\n",
       "       [114.84258399],\n",
       "       [137.70284866],\n",
       "       [ 99.02528674],\n",
       "       [144.34982681],\n",
       "       [185.87170679],\n",
       "       [180.84889222],\n",
       "       [112.67892425],\n",
       "       [122.58211228],\n",
       "       [198.95758827],\n",
       "       [ 93.68268005],\n",
       "       [112.29662157],\n",
       "       [103.55047997],\n",
       "       [176.96301891],\n",
       "       [125.71406536],\n",
       "       [ 92.293251  ],\n",
       "       [121.19123959],\n",
       "       [ 66.92449204],\n",
       "       [141.95617824],\n",
       "       [135.45014385],\n",
       "       [177.46364698],\n",
       "       [125.50341664]])"
      ]
     },
     "execution_count": 103,
     "metadata": {},
     "output_type": "execute_result"
    }
   ],
   "source": [
    "pred = model.predict(Xnew)\n",
    "pred"
   ]
  },
  {
   "cell_type": "code",
   "execution_count": 104,
   "id": "66c6ec71",
   "metadata": {},
   "outputs": [
    {
     "data": {
      "text/html": [
       "<div>\n",
       "<style scoped>\n",
       "    .dataframe tbody tr th:only-of-type {\n",
       "        vertical-align: middle;\n",
       "    }\n",
       "\n",
       "    .dataframe tbody tr th {\n",
       "        vertical-align: top;\n",
       "    }\n",
       "\n",
       "    .dataframe thead th {\n",
       "        text-align: right;\n",
       "    }\n",
       "</style>\n",
       "<table border=\"1\" class=\"dataframe\">\n",
       "  <thead>\n",
       "    <tr style=\"text-align: right;\">\n",
       "      <th></th>\n",
       "      <th>Loan_ID</th>\n",
       "      <th>Gender</th>\n",
       "      <th>Married</th>\n",
       "      <th>Dependents</th>\n",
       "      <th>Education</th>\n",
       "      <th>Self_Employed</th>\n",
       "      <th>ApplicantIncome</th>\n",
       "      <th>CoapplicantIncome</th>\n",
       "      <th>LoanAmount</th>\n",
       "      <th>Loan_Amount_Term</th>\n",
       "      <th>Credit_History</th>\n",
       "      <th>Property_Area</th>\n",
       "      <th>Loan_Status_Pred</th>\n",
       "    </tr>\n",
       "  </thead>\n",
       "  <tbody>\n",
       "    <tr>\n",
       "      <th>0</th>\n",
       "      <td>LP001015</td>\n",
       "      <td>Male</td>\n",
       "      <td>Yes</td>\n",
       "      <td>0</td>\n",
       "      <td>Graduate</td>\n",
       "      <td>No</td>\n",
       "      <td>5720</td>\n",
       "      <td>0</td>\n",
       "      <td>110.0</td>\n",
       "      <td>360.0</td>\n",
       "      <td>1.0</td>\n",
       "      <td>Urban</td>\n",
       "      <td>Y</td>\n",
       "    </tr>\n",
       "    <tr>\n",
       "      <th>1</th>\n",
       "      <td>LP001022</td>\n",
       "      <td>Male</td>\n",
       "      <td>Yes</td>\n",
       "      <td>1</td>\n",
       "      <td>Graduate</td>\n",
       "      <td>No</td>\n",
       "      <td>3076</td>\n",
       "      <td>1500</td>\n",
       "      <td>126.0</td>\n",
       "      <td>360.0</td>\n",
       "      <td>1.0</td>\n",
       "      <td>Urban</td>\n",
       "      <td>Y</td>\n",
       "    </tr>\n",
       "    <tr>\n",
       "      <th>2</th>\n",
       "      <td>LP001031</td>\n",
       "      <td>Male</td>\n",
       "      <td>Yes</td>\n",
       "      <td>2</td>\n",
       "      <td>Graduate</td>\n",
       "      <td>No</td>\n",
       "      <td>5000</td>\n",
       "      <td>1800</td>\n",
       "      <td>208.0</td>\n",
       "      <td>360.0</td>\n",
       "      <td>1.0</td>\n",
       "      <td>Urban</td>\n",
       "      <td>Y</td>\n",
       "    </tr>\n",
       "    <tr>\n",
       "      <th>3</th>\n",
       "      <td>LP001035</td>\n",
       "      <td>Male</td>\n",
       "      <td>Yes</td>\n",
       "      <td>2</td>\n",
       "      <td>Graduate</td>\n",
       "      <td>No</td>\n",
       "      <td>2340</td>\n",
       "      <td>2546</td>\n",
       "      <td>100.0</td>\n",
       "      <td>360.0</td>\n",
       "      <td>NaN</td>\n",
       "      <td>Urban</td>\n",
       "      <td>Y</td>\n",
       "    </tr>\n",
       "    <tr>\n",
       "      <th>4</th>\n",
       "      <td>LP001051</td>\n",
       "      <td>Male</td>\n",
       "      <td>No</td>\n",
       "      <td>0</td>\n",
       "      <td>Not Graduate</td>\n",
       "      <td>No</td>\n",
       "      <td>3276</td>\n",
       "      <td>0</td>\n",
       "      <td>78.0</td>\n",
       "      <td>360.0</td>\n",
       "      <td>1.0</td>\n",
       "      <td>Urban</td>\n",
       "      <td>Y</td>\n",
       "    </tr>\n",
       "  </tbody>\n",
       "</table>\n",
       "</div>"
      ],
      "text/plain": [
       "    Loan_ID Gender Married Dependents     Education Self_Employed  \\\n",
       "0  LP001015   Male     Yes          0      Graduate            No   \n",
       "1  LP001022   Male     Yes          1      Graduate            No   \n",
       "2  LP001031   Male     Yes          2      Graduate            No   \n",
       "3  LP001035   Male     Yes          2      Graduate            No   \n",
       "4  LP001051   Male      No          0  Not Graduate            No   \n",
       "\n",
       "   ApplicantIncome  CoapplicantIncome  LoanAmount  Loan_Amount_Term  \\\n",
       "0             5720                  0       110.0             360.0   \n",
       "1             3076               1500       126.0             360.0   \n",
       "2             5000               1800       208.0             360.0   \n",
       "3             2340               2546       100.0             360.0   \n",
       "4             3276                  0        78.0             360.0   \n",
       "\n",
       "   Credit_History Property_Area Loan_Status_Pred  \n",
       "0             1.0         Urban                Y  \n",
       "1             1.0         Urban                Y  \n",
       "2             1.0         Urban                Y  \n",
       "3             NaN         Urban                Y  \n",
       "4             1.0         Urban                Y  "
      ]
     },
     "execution_count": 104,
     "metadata": {},
     "output_type": "execute_result"
    }
   ],
   "source": [
    "B.head()"
   ]
  },
  {
   "cell_type": "code",
   "execution_count": 105,
   "id": "e5436725",
   "metadata": {},
   "outputs": [
    {
     "data": {
      "text/html": [
       "<div>\n",
       "<style scoped>\n",
       "    .dataframe tbody tr th:only-of-type {\n",
       "        vertical-align: middle;\n",
       "    }\n",
       "\n",
       "    .dataframe tbody tr th {\n",
       "        vertical-align: top;\n",
       "    }\n",
       "\n",
       "    .dataframe thead th {\n",
       "        text-align: right;\n",
       "    }\n",
       "</style>\n",
       "<table border=\"1\" class=\"dataframe\">\n",
       "  <thead>\n",
       "    <tr style=\"text-align: right;\">\n",
       "      <th></th>\n",
       "      <th>Loan_ID</th>\n",
       "      <th>Gender</th>\n",
       "      <th>Married</th>\n",
       "      <th>Dependents</th>\n",
       "      <th>Education</th>\n",
       "      <th>Self_Employed</th>\n",
       "      <th>ApplicantIncome</th>\n",
       "      <th>CoapplicantIncome</th>\n",
       "      <th>LoanAmount</th>\n",
       "      <th>Loan_Amount_Term</th>\n",
       "      <th>Credit_History</th>\n",
       "      <th>Property_Area</th>\n",
       "      <th>Loan_Status_Pred</th>\n",
       "    </tr>\n",
       "  </thead>\n",
       "  <tbody>\n",
       "    <tr>\n",
       "      <th>7</th>\n",
       "      <td>LP001056</td>\n",
       "      <td>Male</td>\n",
       "      <td>Yes</td>\n",
       "      <td>2</td>\n",
       "      <td>Not Graduate</td>\n",
       "      <td>No</td>\n",
       "      <td>3881</td>\n",
       "      <td>0</td>\n",
       "      <td>147.0</td>\n",
       "      <td>360.0</td>\n",
       "      <td>0.0</td>\n",
       "      <td>Rural</td>\n",
       "      <td>N</td>\n",
       "    </tr>\n",
       "    <tr>\n",
       "      <th>13</th>\n",
       "      <td>LP001094</td>\n",
       "      <td>Male</td>\n",
       "      <td>Yes</td>\n",
       "      <td>2</td>\n",
       "      <td>Graduate</td>\n",
       "      <td>NaN</td>\n",
       "      <td>12173</td>\n",
       "      <td>0</td>\n",
       "      <td>166.0</td>\n",
       "      <td>360.0</td>\n",
       "      <td>0.0</td>\n",
       "      <td>Semiurban</td>\n",
       "      <td>N</td>\n",
       "    </tr>\n",
       "    <tr>\n",
       "      <th>25</th>\n",
       "      <td>LP001153</td>\n",
       "      <td>Male</td>\n",
       "      <td>No</td>\n",
       "      <td>0</td>\n",
       "      <td>Graduate</td>\n",
       "      <td>No</td>\n",
       "      <td>0</td>\n",
       "      <td>24000</td>\n",
       "      <td>148.0</td>\n",
       "      <td>360.0</td>\n",
       "      <td>0.0</td>\n",
       "      <td>Rural</td>\n",
       "      <td>N</td>\n",
       "    </tr>\n",
       "    <tr>\n",
       "      <th>35</th>\n",
       "      <td>LP001203</td>\n",
       "      <td>Male</td>\n",
       "      <td>No</td>\n",
       "      <td>0</td>\n",
       "      <td>Graduate</td>\n",
       "      <td>No</td>\n",
       "      <td>3150</td>\n",
       "      <td>0</td>\n",
       "      <td>176.0</td>\n",
       "      <td>360.0</td>\n",
       "      <td>0.0</td>\n",
       "      <td>Semiurban</td>\n",
       "      <td>N</td>\n",
       "    </tr>\n",
       "    <tr>\n",
       "      <th>55</th>\n",
       "      <td>LP001313</td>\n",
       "      <td>Male</td>\n",
       "      <td>No</td>\n",
       "      <td>0</td>\n",
       "      <td>Graduate</td>\n",
       "      <td>No</td>\n",
       "      <td>2750</td>\n",
       "      <td>0</td>\n",
       "      <td>130.0</td>\n",
       "      <td>360.0</td>\n",
       "      <td>0.0</td>\n",
       "      <td>Urban</td>\n",
       "      <td>N</td>\n",
       "    </tr>\n",
       "  </tbody>\n",
       "</table>\n",
       "</div>"
      ],
      "text/plain": [
       "     Loan_ID Gender Married Dependents     Education Self_Employed  \\\n",
       "7   LP001056   Male     Yes          2  Not Graduate            No   \n",
       "13  LP001094   Male     Yes          2      Graduate           NaN   \n",
       "25  LP001153   Male      No          0      Graduate            No   \n",
       "35  LP001203   Male      No          0      Graduate            No   \n",
       "55  LP001313   Male      No          0      Graduate            No   \n",
       "\n",
       "    ApplicantIncome  CoapplicantIncome  LoanAmount  Loan_Amount_Term  \\\n",
       "7              3881                  0       147.0             360.0   \n",
       "13            12173                  0       166.0             360.0   \n",
       "25                0              24000       148.0             360.0   \n",
       "35             3150                  0       176.0             360.0   \n",
       "55             2750                  0       130.0             360.0   \n",
       "\n",
       "    Credit_History Property_Area Loan_Status_Pred  \n",
       "7              0.0         Rural                N  \n",
       "13             0.0     Semiurban                N  \n",
       "25             0.0         Rural                N  \n",
       "35             0.0     Semiurban                N  \n",
       "55             0.0         Urban                N  "
      ]
     },
     "execution_count": 105,
     "metadata": {},
     "output_type": "execute_result"
    }
   ],
   "source": [
    "B[B.Loan_Status_Pred == \"N\"].head()"
   ]
  },
  {
   "cell_type": "markdown",
   "id": "44d6f0aa",
   "metadata": {},
   "source": [
    "# b.)if duration is less than equal to 20 years, is customer eligible for required amount for some longer duration? What is that duration?(Regression)"
   ]
  },
  {
   "cell_type": "code",
   "execution_count": 106,
   "id": "89677a08",
   "metadata": {},
   "outputs": [],
   "source": [
    "test = B[B.Loan_Amount_Term <= 240]\n",
    "test.index = range(0,34)"
   ]
  },
  {
   "cell_type": "code",
   "execution_count": 107,
   "id": "c8f3105e",
   "metadata": {},
   "outputs": [],
   "source": [
    "replacer(A)\n",
    "Y = A[[\"Loan_Amount_Term\"]]\n",
    "X = A.drop(labels=[\"Loan_Amount_Term\",\"Loan_ID\",\"Loan_Status\"],axis=1)\n",
    "Xnew = preprocessing(X)\n",
    "from sklearn.model_selection import train_test_split\n",
    "xtrain,xtest,ytrain,ytest=train_test_split(Xnew,Y,test_size=0.2,random_state=21)"
   ]
  },
  {
   "cell_type": "code",
   "execution_count": 108,
   "id": "8523f3c2",
   "metadata": {},
   "outputs": [
    {
     "data": {
      "text/plain": [
       "(614, 10)"
      ]
     },
     "execution_count": 108,
     "metadata": {},
     "output_type": "execute_result"
    }
   ],
   "source": [
    "X.shape"
   ]
  },
  {
   "cell_type": "code",
   "execution_count": 109,
   "id": "cdd54410",
   "metadata": {},
   "outputs": [
    {
     "data": {
      "text/plain": [
       "Index(['Gender', 'Married', 'Dependents', 'Education', 'Self_Employed',\n",
       "       'ApplicantIncome', 'CoapplicantIncome', 'LoanAmount', 'Credit_History',\n",
       "       'Property_Area'],\n",
       "      dtype='object')"
      ]
     },
     "execution_count": 109,
     "metadata": {},
     "output_type": "execute_result"
    }
   ],
   "source": [
    "X.columns"
   ]
  },
  {
   "cell_type": "code",
   "execution_count": 112,
   "id": "5f45a151",
   "metadata": {},
   "outputs": [],
   "source": [
    "from sklearn.linear_model import LinearRegression\n",
    "lm = LinearRegression()\n",
    "model = lm.fit(xtrain,ytrain)\n",
    "tr_pred = model.predict(xtrain)\n",
    "ts_pred = model.predict(xtest)\n",
    "\n",
    "from sklearn.metrics import mean_absolute_error\n",
    "tr_err = mean_absolute_error(ytrain,tr_pred)\n",
    "ts_err = mean_absolute_error(ytest,ts_pred)"
   ]
  },
  {
   "cell_type": "code",
   "execution_count": 114,
   "id": "3e5fd37f",
   "metadata": {},
   "outputs": [],
   "source": [
    "from sklearn.neighbors import KNeighborsRegressor\n",
    "knr = KNeighborsRegressor(n_neighbors=5,weights=\"distance\")\n",
    "k = range(2,10)\n",
    "tr = []\n",
    "ts = []\n",
    "for i in k:\n",
    "    from sklearn.neighbors import KNeighborsClassifier\n",
    "    knc = KNeighborsClassifier(n_neighbors=i)\n",
    "    model = knc.fit(xtrain,ytrain)\n",
    "    pred_tr = model.predict(xtest)\n",
    "    pred_ts = model.predict(xtrain)\n",
    "    from sklearn.metrics import accuracy_score\n",
    "    ts_acc = accuracy_score(ytest,pred_tr)\n",
    "    tr_acc = accuracy_score(ytrain,pred_ts)\n",
    "    tr.append(tr_acc)\n",
    "    ts.append(ts_acc)"
   ]
  },
  {
   "cell_type": "code",
   "execution_count": 116,
   "id": "b89ab1ad",
   "metadata": {},
   "outputs": [
    {
     "data": {
      "text/plain": [
       "array([[347.50450335],\n",
       "       [321.06195715],\n",
       "       [355.75451989],\n",
       "       [312.71333571],\n",
       "       [349.77609344],\n",
       "       [335.02559174],\n",
       "       [332.24691899],\n",
       "       [347.15769596],\n",
       "       [324.82901753],\n",
       "       [322.09891631],\n",
       "       [359.53521602],\n",
       "       [329.23009623],\n",
       "       [338.18491459],\n",
       "       [350.53796222],\n",
       "       [350.29750467],\n",
       "       [322.21127582],\n",
       "       [357.24136891],\n",
       "       [337.4626689 ],\n",
       "       [357.09136153],\n",
       "       [343.24032525],\n",
       "       [333.66112996],\n",
       "       [346.06367885],\n",
       "       [354.07764754],\n",
       "       [359.24714264],\n",
       "       [364.02457967],\n",
       "       [349.82515194],\n",
       "       [353.82223736],\n",
       "       [316.84937481],\n",
       "       [360.23449906],\n",
       "       [320.6369744 ],\n",
       "       [336.01751471],\n",
       "       [314.04695256],\n",
       "       [321.41119638],\n",
       "       [348.51091015]])"
      ]
     },
     "execution_count": 116,
     "metadata": {},
     "output_type": "execute_result"
    }
   ],
   "source": [
    "replacer(test)\n",
    "X = test.drop(labels=[\"Loan_Amount_Term\",\"Loan_ID\",'Loan_Status_Pred'],axis=1)\n",
    "Xnew = preprocessing(X)\n",
    "\n",
    "lm.predict(Xnew)"
   ]
  },
  {
   "cell_type": "code",
   "execution_count": 117,
   "id": "74b00cb6",
   "metadata": {},
   "outputs": [
    {
     "data": {
      "text/plain": [
       "Index(['Gender', 'Married', 'Dependents', 'Education', 'Self_Employed',\n",
       "       'ApplicantIncome', 'CoapplicantIncome', 'LoanAmount', 'Credit_History',\n",
       "       'Property_Area'],\n",
       "      dtype='object')"
      ]
     },
     "execution_count": 117,
     "metadata": {},
     "output_type": "execute_result"
    }
   ],
   "source": [
    "X.columns"
   ]
  },
  {
   "cell_type": "code",
   "execution_count": 118,
   "id": "ae172a04",
   "metadata": {},
   "outputs": [
    {
     "ename": "SyntaxError",
     "evalue": "unexpected EOF while parsing (<ipython-input-118-a191a6b1dc76>, line 3)",
     "output_type": "error",
     "traceback": [
      "\u001b[1;36m  File \u001b[1;32m\"<ipython-input-118-a191a6b1dc76>\"\u001b[1;36m, line \u001b[1;32m3\u001b[0m\n\u001b[1;33m    'Property_Area'],\u001b[0m\n\u001b[1;37m                     ^\u001b[0m\n\u001b[1;31mSyntaxError\u001b[0m\u001b[1;31m:\u001b[0m unexpected EOF while parsing\n"
     ]
    }
   ],
   "source": [
    "Index(['Gender', 'Married', 'Dependents', 'Education', 'Self_Employed',\n",
    "       'ApplicantIncome', 'CoapplicantIncome', 'LoanAmount', 'Credit_History',\n",
    "       'Property_Area'],"
   ]
  },
  {
   "cell_type": "code",
   "execution_count": null,
   "id": "07c70c01",
   "metadata": {},
   "outputs": [],
   "source": []
  }
 ],
 "metadata": {
  "kernelspec": {
   "display_name": "Python 3",
   "language": "python",
   "name": "python3"
  },
  "language_info": {
   "codemirror_mode": {
    "name": "ipython",
    "version": 3
   },
   "file_extension": ".py",
   "mimetype": "text/x-python",
   "name": "python",
   "nbconvert_exporter": "python",
   "pygments_lexer": "ipython3",
   "version": "3.8.8"
  }
 },
 "nbformat": 4,
 "nbformat_minor": 5
}
